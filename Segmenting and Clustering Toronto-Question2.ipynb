{
    "nbformat_minor": 1, 
    "cells": [
        {
            "source": "import requests\nimport pandas as pd\nimport json\nfrom pandas.io.json import json_normalize\nfrom bs4 import BeautifulSoup\nimport geocoder", 
            "cell_type": "code", 
            "metadata": {}, 
            "outputs": [], 
            "execution_count": 15
        }, 
        {
            "source": "Code to Generate the Dataframe by scraping the wikipedia", 
            "cell_type": "markdown", 
            "metadata": {}
        }, 
        {
            "source": "results = requests.get('https://en.wikipedia.org/wiki/List_of_postal_codes_of_Canada:_M').text\nsoup=BeautifulSoup(results,'lxml')\nMy_table = soup.find('table',{'class':'wikitable sortable'})\ndata=My_table.findAll('td')\npostalCode=[]\nborough = []\nneighborhood =[]\nfor i,link in enumerate(data):\n    if i%3==0:\n        postalCode.append(link.get_text())\n    if i%3==1:\n        borough.append(link.get_text())\n    if i%3==2:\n        neighborhood.append(link.get_text())\nfinalTable = {}\nfor i in range(len(postalCode)):\n    if borough[i] != 'Not assigned':\n        if postalCode[i] not in finalTable.keys():\n            tempDict={}\n            templist=[]\n            if neighborhood[i].strip('\\n') != 'Not assigned':\n                templist.append(neighborhood[i].strip('\\n'))\n            else:\n                templist.append(borough[i].strip('\\n'))\n            tempDict[borough[i].strip('\\n')]=templist\n            finalTable[postalCode[i]]=tempDict\n        else:\n            if neighborhood[i].strip('\\n') != 'Not assigned':\n                finalTable[postalCode[i]][borough[i].strip('\\n')].append(neighborhood[i].strip('\\n'))\n            else:\n                finalTable[postalCode[i]][borough[i].strip('\\n')].append(borough[i].strip('\\n'))\n\ndata={}\nfor k,v in finalTable.items():\n    temp=[]\n    temp.append(list(v.keys())[0])\n    strtemp=\"\"\n    for i,j in enumerate(list(v.values())[0]):\n        strtemp+=j\n        if i != len(list(v.values())[0])-1:\n            strtemp+=','\n    temp.append(strtemp)\n    data[k]=temp\ndf=pd.DataFrame.from_dict(data, orient='index')\ndf.reset_index(inplace=True)\ndf.rename(index=str, columns={'index': \"PostalCode\", 0: \"Borough\",1: \"Neighborhood\"},inplace=True)", 
            "cell_type": "code", 
            "metadata": {}, 
            "outputs": [], 
            "execution_count": 20
        }, 
        {
            "source": "df.head()", 
            "cell_type": "code", 
            "metadata": {}, 
            "outputs": [
                {
                    "output_type": "execute_result", 
                    "data": {
                        "text/plain": "  PostalCode           Borough                                   Neighborhood\n0        M6R      West Toronto                          Parkdale,Roncesvalles\n1        M1M       Scarborough  Cliffcrest,Cliffside,Scarborough Village West\n2        M1N       Scarborough                     Birch Cliff,Cliffside West\n3        M5G  Downtown Toronto                             Central Bay Street\n4        M3L        North York                                 Downsview West", 
                        "text/html": "<div>\n<style scoped>\n    .dataframe tbody tr th:only-of-type {\n        vertical-align: middle;\n    }\n\n    .dataframe tbody tr th {\n        vertical-align: top;\n    }\n\n    .dataframe thead th {\n        text-align: right;\n    }\n</style>\n<table border=\"1\" class=\"dataframe\">\n  <thead>\n    <tr style=\"text-align: right;\">\n      <th></th>\n      <th>PostalCode</th>\n      <th>Borough</th>\n      <th>Neighborhood</th>\n    </tr>\n  </thead>\n  <tbody>\n    <tr>\n      <th>0</th>\n      <td>M6R</td>\n      <td>West Toronto</td>\n      <td>Parkdale,Roncesvalles</td>\n    </tr>\n    <tr>\n      <th>1</th>\n      <td>M1M</td>\n      <td>Scarborough</td>\n      <td>Cliffcrest,Cliffside,Scarborough Village West</td>\n    </tr>\n    <tr>\n      <th>2</th>\n      <td>M1N</td>\n      <td>Scarborough</td>\n      <td>Birch Cliff,Cliffside West</td>\n    </tr>\n    <tr>\n      <th>3</th>\n      <td>M5G</td>\n      <td>Downtown Toronto</td>\n      <td>Central Bay Street</td>\n    </tr>\n    <tr>\n      <th>4</th>\n      <td>M3L</td>\n      <td>North York</td>\n      <td>Downsview West</td>\n    </tr>\n  </tbody>\n</table>\n</div>"
                    }, 
                    "execution_count": 21, 
                    "metadata": {}
                }
            ], 
            "execution_count": 21
        }, 
        {
            "source": "def get_latlng(postal_code):\n    lat_lng_coords = None\n    while(lat_lng_coords is None):\n        g = geocoder.arcgis('{}, Toronto, Ontario'.format(postal_code))\n        lat_lng_coords = g.latlng\n    return lat_lng_coords\n    \n##Sample Test\nget_latlng('M2J')", 
            "cell_type": "code", 
            "metadata": {}, 
            "outputs": [
                {
                    "output_type": "execute_result", 
                    "data": {
                        "text/plain": "[43.780880000000025, -79.34779577599994]"
                    }, 
                    "execution_count": 4, 
                    "metadata": {}
                }
            ], 
            "execution_count": 4
        }, 
        {
            "source": "Getting PostalCodes for all Boroughs and fetching Lattitude and longitude using above function \nand adding Columns and Data in original Dataframe", 
            "cell_type": "markdown", 
            "metadata": {}
        }, 
        {
            "source": "postal_codes = df['PostalCode']    \ncoords = [ get_latlng(postal_code) for postal_code in postal_codes.tolist() ]", 
            "cell_type": "code", 
            "metadata": {}, 
            "outputs": [], 
            "execution_count": 5
        }, 
        {
            "source": "df_coords = pd.DataFrame(coords, columns=['Latitude', 'Longitude'])", 
            "cell_type": "code", 
            "metadata": {}, 
            "outputs": [], 
            "execution_count": 6
        }, 
        {
            "source": "df= df.assign(Latitude=list(df_coords['Latitude']))\ndf= df.assign(Longitude=list(df_coords['Longitude']))", 
            "cell_type": "code", 
            "metadata": {}, 
            "outputs": [], 
            "execution_count": 29
        }, 
        {
            "source": "df.head(12)", 
            "cell_type": "code", 
            "metadata": {}, 
            "outputs": [
                {
                    "output_type": "execute_result", 
                    "data": {
                        "text/plain": "   PostalCode           Borough  \\\n0         M6R      West Toronto   \n1         M1M       Scarborough   \n2         M1N       Scarborough   \n3         M5G  Downtown Toronto   \n4         M3L        North York   \n5         M6B        North York   \n6         M2K        North York   \n7         M8X         Etobicoke   \n8         M6K      West Toronto   \n9         M8V         Etobicoke   \n10        M8Y         Etobicoke   \n11        M9V         Etobicoke   \n\n                                         Neighborhood   Latitude  Longitude  \n0                               Parkdale,Roncesvalles  43.647870 -79.449762  \n1       Cliffcrest,Cliffside,Scarborough Village West  43.723575 -79.234976  \n2                          Birch Cliff,Cliffside West  43.696665 -79.260163  \n3                                  Central Bay Street  43.656091 -79.384930  \n4                                      Downsview West  43.740885 -79.505027  \n5                                           Glencairn  43.707990 -79.448367  \n6                                     Bayview Village  43.781015 -79.380542  \n7         The Kingsway,Montgomery Road,Old Mill North  43.653690 -79.511117  \n8          Brockton,Exhibition Place,Parkdale Village  43.639410 -79.424362  \n9          Humber Bay Shores,Mimico South,New Toronto  43.609870 -79.498178  \n10  Humber Bay,King's Mill Park,Kingsway Park Sout...  43.632765 -79.489601  \n11  Albion Gardens,Beaumond Heights,Humbergate,Jam...  43.743205 -79.584701  ", 
                        "text/html": "<div>\n<style scoped>\n    .dataframe tbody tr th:only-of-type {\n        vertical-align: middle;\n    }\n\n    .dataframe tbody tr th {\n        vertical-align: top;\n    }\n\n    .dataframe thead th {\n        text-align: right;\n    }\n</style>\n<table border=\"1\" class=\"dataframe\">\n  <thead>\n    <tr style=\"text-align: right;\">\n      <th></th>\n      <th>PostalCode</th>\n      <th>Borough</th>\n      <th>Neighborhood</th>\n      <th>Latitude</th>\n      <th>Longitude</th>\n    </tr>\n  </thead>\n  <tbody>\n    <tr>\n      <th>0</th>\n      <td>M6R</td>\n      <td>West Toronto</td>\n      <td>Parkdale,Roncesvalles</td>\n      <td>43.647870</td>\n      <td>-79.449762</td>\n    </tr>\n    <tr>\n      <th>1</th>\n      <td>M1M</td>\n      <td>Scarborough</td>\n      <td>Cliffcrest,Cliffside,Scarborough Village West</td>\n      <td>43.723575</td>\n      <td>-79.234976</td>\n    </tr>\n    <tr>\n      <th>2</th>\n      <td>M1N</td>\n      <td>Scarborough</td>\n      <td>Birch Cliff,Cliffside West</td>\n      <td>43.696665</td>\n      <td>-79.260163</td>\n    </tr>\n    <tr>\n      <th>3</th>\n      <td>M5G</td>\n      <td>Downtown Toronto</td>\n      <td>Central Bay Street</td>\n      <td>43.656091</td>\n      <td>-79.384930</td>\n    </tr>\n    <tr>\n      <th>4</th>\n      <td>M3L</td>\n      <td>North York</td>\n      <td>Downsview West</td>\n      <td>43.740885</td>\n      <td>-79.505027</td>\n    </tr>\n    <tr>\n      <th>5</th>\n      <td>M6B</td>\n      <td>North York</td>\n      <td>Glencairn</td>\n      <td>43.707990</td>\n      <td>-79.448367</td>\n    </tr>\n    <tr>\n      <th>6</th>\n      <td>M2K</td>\n      <td>North York</td>\n      <td>Bayview Village</td>\n      <td>43.781015</td>\n      <td>-79.380542</td>\n    </tr>\n    <tr>\n      <th>7</th>\n      <td>M8X</td>\n      <td>Etobicoke</td>\n      <td>The Kingsway,Montgomery Road,Old Mill North</td>\n      <td>43.653690</td>\n      <td>-79.511117</td>\n    </tr>\n    <tr>\n      <th>8</th>\n      <td>M6K</td>\n      <td>West Toronto</td>\n      <td>Brockton,Exhibition Place,Parkdale Village</td>\n      <td>43.639410</td>\n      <td>-79.424362</td>\n    </tr>\n    <tr>\n      <th>9</th>\n      <td>M8V</td>\n      <td>Etobicoke</td>\n      <td>Humber Bay Shores,Mimico South,New Toronto</td>\n      <td>43.609870</td>\n      <td>-79.498178</td>\n    </tr>\n    <tr>\n      <th>10</th>\n      <td>M8Y</td>\n      <td>Etobicoke</td>\n      <td>Humber Bay,King's Mill Park,Kingsway Park Sout...</td>\n      <td>43.632765</td>\n      <td>-79.489601</td>\n    </tr>\n    <tr>\n      <th>11</th>\n      <td>M9V</td>\n      <td>Etobicoke</td>\n      <td>Albion Gardens,Beaumond Heights,Humbergate,Jam...</td>\n      <td>43.743205</td>\n      <td>-79.584701</td>\n    </tr>\n  </tbody>\n</table>\n</div>"
                    }, 
                    "execution_count": 31, 
                    "metadata": {}
                }
            ], 
            "execution_count": 31
        }, 
        {
            "source": "", 
            "cell_type": "code", 
            "metadata": {}, 
            "outputs": [], 
            "execution_count": null
        }
    ], 
    "metadata": {
        "kernelspec": {
            "display_name": "Python 3.5", 
            "name": "python3", 
            "language": "python"
        }, 
        "language_info": {
            "mimetype": "text/x-python", 
            "nbconvert_exporter": "python", 
            "version": "3.5.5", 
            "name": "python", 
            "file_extension": ".py", 
            "pygments_lexer": "ipython3", 
            "codemirror_mode": {
                "version": 3, 
                "name": "ipython"
            }
        }
    }, 
    "nbformat": 4
}