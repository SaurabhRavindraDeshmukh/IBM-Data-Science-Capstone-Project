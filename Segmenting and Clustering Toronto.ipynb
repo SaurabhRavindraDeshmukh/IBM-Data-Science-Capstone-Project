{
    "nbformat_minor": 1, 
    "cells": [
        {
            "source": "import requests\nimport pandas as pd\nimport json\nfrom pandas.io.json import json_normalize", 
            "cell_type": "code", 
            "metadata": {}, 
            "outputs": [], 
            "execution_count": 1
        }, 
        {
            "source": "results = requests.get('https://en.wikipedia.org/wiki/List_of_postal_codes_of_Canada:_M').text", 
            "cell_type": "code", 
            "metadata": {}, 
            "outputs": [], 
            "execution_count": 2
        }, 
        {
            "source": "from bs4 import BeautifulSoup", 
            "cell_type": "code", 
            "metadata": {}, 
            "outputs": [], 
            "execution_count": 3
        }, 
        {
            "source": "soup=BeautifulSoup(results,'lxml')", 
            "cell_type": "code", 
            "metadata": {}, 
            "outputs": [], 
            "execution_count": 4
        }, 
        {
            "source": "My_table = soup.find('table',{'class':'wikitable sortable'})", 
            "cell_type": "code", 
            "metadata": {}, 
            "outputs": [], 
            "execution_count": 5
        }, 
        {
            "source": "Uncomment below line to see fetch content   ###Very big Content and not printed intentionally", 
            "cell_type": "markdown", 
            "metadata": {}
        }, 
        {
            "source": "#My_table           ", 
            "cell_type": "code", 
            "metadata": {}, 
            "outputs": [], 
            "execution_count": 6
        }, 
        {
            "source": "Find all table data using 'td' link", 
            "cell_type": "markdown", 
            "metadata": {}
        }, 
        {
            "source": "data=My_table.findAll('td')", 
            "cell_type": "code", 
            "metadata": {}, 
            "outputs": [], 
            "execution_count": 7
        }, 
        {
            "source": "Uncomment below line to see fetch content   ###Very big Content and not printed intentionally", 
            "cell_type": "markdown", 
            "metadata": {}
        }, 
        {
            "source": "#data", 
            "cell_type": "code", 
            "metadata": {}, 
            "outputs": [], 
            "execution_count": 8
        }, 
        {
            "source": "Store the table data in terms of PostalCode, Borough and Neighborhood", 
            "cell_type": "markdown", 
            "metadata": {}
        }, 
        {
            "source": "postalCode=[]\nborough = []\nneighborhood =[]\nfor i,link in enumerate(data):\n    if i%3==0:\n        postalCode.append(link.get_text())\n    if i%3==1:\n        borough.append(link.get_text())\n    if i%3==2:\n        neighborhood.append(link.get_text())", 
            "cell_type": "code", 
            "metadata": {}, 
            "outputs": [], 
            "execution_count": 9
        }, 
        {
            "source": "Store the sepearated data by filtering out 'Not Assigned' fields and Add same postalcode Neighborhood in same cell by comma\nseperated", 
            "cell_type": "markdown", 
            "metadata": {}
        }, 
        {
            "source": "finalTable = {}\nfor i in range(len(postalCode)):\n    if borough[i] != 'Not assigned':\n        if postalCode[i] not in finalTable.keys():\n            tempDict={}\n            templist=[]\n            if neighborhood[i].strip('\\n') != 'Not assigned':\n                templist.append(neighborhood[i].strip('\\n'))\n            else:\n                templist.append(borough[i].strip('\\n'))\n            tempDict[borough[i].strip('\\n')]=templist\n            finalTable[postalCode[i]]=tempDict\n        else:\n            if neighborhood[i].strip('\\n') != 'Not assigned':\n                finalTable[postalCode[i]][borough[i].strip('\\n')].append(neighborhood[i].strip('\\n'))\n            else:\n                finalTable[postalCode[i]][borough[i].strip('\\n')].append(borough[i].strip('\\n'))\n\ndata={}\nfor k,v in finalTable.items():\n    temp=[]\n    temp.append(list(v.keys())[0])\n    strtemp=\"\"\n    for i,j in enumerate(list(v.values())[0]):\n        strtemp+=j\n        if i != len(list(v.values())[0])-1:\n            strtemp+=','\n    temp.append(strtemp)\n    data[k]=temp\n            ", 
            "cell_type": "code", 
            "metadata": {}, 
            "outputs": [], 
            "execution_count": 10
        }, 
        {
            "source": "Test if 'not Assigned' neighborhood fields are replaced by Borough", 
            "cell_type": "markdown", 
            "metadata": {}
        }, 
        {
            "source": "data['M7A']", 
            "cell_type": "code", 
            "metadata": {}, 
            "outputs": [
                {
                    "output_type": "execute_result", 
                    "data": {
                        "text/plain": "[\"Queen's Park\", \"Queen's Park\"]"
                    }, 
                    "execution_count": 11, 
                    "metadata": {}
                }
            ], 
            "execution_count": 11
        }, 
        {
            "source": "Convert Dictionary to Dataframe, rename the columns names and print the dataframe head and its shape", 
            "cell_type": "markdown", 
            "metadata": {}
        }, 
        {
            "source": "df=pd.DataFrame.from_dict(data, orient='index')", 
            "cell_type": "code", 
            "metadata": {}, 
            "outputs": [], 
            "execution_count": 12
        }, 
        {
            "source": "df.reset_index(inplace=True)", 
            "cell_type": "code", 
            "metadata": {}, 
            "outputs": [], 
            "execution_count": 13
        }, 
        {
            "source": "df.rename(index=str, columns={'index': \"PostalCode\", 0: \"Borough\",1: \"Neighborhood\"},inplace=True)", 
            "cell_type": "code", 
            "metadata": {}, 
            "outputs": [], 
            "execution_count": 14
        }, 
        {
            "source": "df.head()", 
            "cell_type": "code", 
            "metadata": {}, 
            "outputs": [
                {
                    "output_type": "execute_result", 
                    "data": {
                        "text/html": "<div>\n<style scoped>\n    .dataframe tbody tr th:only-of-type {\n        vertical-align: middle;\n    }\n\n    .dataframe tbody tr th {\n        vertical-align: top;\n    }\n\n    .dataframe thead th {\n        text-align: right;\n    }\n</style>\n<table border=\"1\" class=\"dataframe\">\n  <thead>\n    <tr style=\"text-align: right;\">\n      <th></th>\n      <th>PostalCode</th>\n      <th>Borough</th>\n      <th>Neighborhood</th>\n    </tr>\n  </thead>\n  <tbody>\n    <tr>\n      <th>0</th>\n      <td>M3M</td>\n      <td>North York</td>\n      <td>Downsview Central</td>\n    </tr>\n    <tr>\n      <th>1</th>\n      <td>M6N</td>\n      <td>York</td>\n      <td>The Junction North,Runnymede</td>\n    </tr>\n    <tr>\n      <th>2</th>\n      <td>M5H</td>\n      <td>Downtown Toronto</td>\n      <td>Adelaide,King,Richmond</td>\n    </tr>\n    <tr>\n      <th>3</th>\n      <td>M3H</td>\n      <td>North York</td>\n      <td>Bathurst Manor,Downsview North,Wilson Heights</td>\n    </tr>\n    <tr>\n      <th>4</th>\n      <td>M5E</td>\n      <td>Downtown Toronto</td>\n      <td>Berczy Park</td>\n    </tr>\n  </tbody>\n</table>\n</div>", 
                        "text/plain": "  PostalCode           Borough                                   Neighborhood\n0        M3M        North York                              Downsview Central\n1        M6N              York                   The Junction North,Runnymede\n2        M5H  Downtown Toronto                         Adelaide,King,Richmond\n3        M3H        North York  Bathurst Manor,Downsview North,Wilson Heights\n4        M5E  Downtown Toronto                                    Berczy Park"
                    }, 
                    "execution_count": 15, 
                    "metadata": {}
                }
            ], 
            "execution_count": 15
        }, 
        {
            "source": "df.shape", 
            "cell_type": "code", 
            "metadata": {}, 
            "outputs": [
                {
                    "output_type": "execute_result", 
                    "data": {
                        "text/plain": "(103, 3)"
                    }, 
                    "execution_count": 18, 
                    "metadata": {}
                }
            ], 
            "execution_count": 18
        }, 
        {
            "source": "df", 
            "cell_type": "code", 
            "metadata": {}, 
            "outputs": [
                {
                    "output_type": "execute_result", 
                    "data": {
                        "text/html": "<div>\n<style scoped>\n    .dataframe tbody tr th:only-of-type {\n        vertical-align: middle;\n    }\n\n    .dataframe tbody tr th {\n        vertical-align: top;\n    }\n\n    .dataframe thead th {\n        text-align: right;\n    }\n</style>\n<table border=\"1\" class=\"dataframe\">\n  <thead>\n    <tr style=\"text-align: right;\">\n      <th></th>\n      <th>PostalCode</th>\n      <th>Borough</th>\n      <th>Neighborhood</th>\n    </tr>\n  </thead>\n  <tbody>\n    <tr>\n      <th>0</th>\n      <td>M3M</td>\n      <td>North York</td>\n      <td>Downsview Central</td>\n    </tr>\n    <tr>\n      <th>1</th>\n      <td>M6N</td>\n      <td>York</td>\n      <td>The Junction North,Runnymede</td>\n    </tr>\n    <tr>\n      <th>2</th>\n      <td>M5H</td>\n      <td>Downtown Toronto</td>\n      <td>Adelaide,King,Richmond</td>\n    </tr>\n    <tr>\n      <th>3</th>\n      <td>M3H</td>\n      <td>North York</td>\n      <td>Bathurst Manor,Downsview North,Wilson Heights</td>\n    </tr>\n    <tr>\n      <th>4</th>\n      <td>M5E</td>\n      <td>Downtown Toronto</td>\n      <td>Berczy Park</td>\n    </tr>\n    <tr>\n      <th>5</th>\n      <td>M6G</td>\n      <td>Downtown Toronto</td>\n      <td>Christie</td>\n    </tr>\n    <tr>\n      <th>6</th>\n      <td>M9P</td>\n      <td>Etobicoke</td>\n      <td>Westmount</td>\n    </tr>\n    <tr>\n      <th>7</th>\n      <td>M4T</td>\n      <td>Central Toronto</td>\n      <td>Moore Park,Summerhill East</td>\n    </tr>\n    <tr>\n      <th>8</th>\n      <td>M4W</td>\n      <td>Downtown Toronto</td>\n      <td>Rosedale</td>\n    </tr>\n    <tr>\n      <th>9</th>\n      <td>M8V</td>\n      <td>Etobicoke</td>\n      <td>Humber Bay Shores,Mimico South,New Toronto</td>\n    </tr>\n    <tr>\n      <th>10</th>\n      <td>M4G</td>\n      <td>East York</td>\n      <td>Leaside</td>\n    </tr>\n    <tr>\n      <th>11</th>\n      <td>M1B</td>\n      <td>Scarborough</td>\n      <td>Rouge,Malvern</td>\n    </tr>\n    <tr>\n      <th>12</th>\n      <td>M5G</td>\n      <td>Downtown Toronto</td>\n      <td>Central Bay Street</td>\n    </tr>\n    <tr>\n      <th>13</th>\n      <td>M1K</td>\n      <td>Scarborough</td>\n      <td>East Birchmount Park,Ionview,Kennedy Park</td>\n    </tr>\n    <tr>\n      <th>14</th>\n      <td>M6H</td>\n      <td>West Toronto</td>\n      <td>Dovercourt Village,Dufferin</td>\n    </tr>\n    <tr>\n      <th>15</th>\n      <td>M9M</td>\n      <td>North York</td>\n      <td>Emery,Humberlea</td>\n    </tr>\n    <tr>\n      <th>16</th>\n      <td>M6A</td>\n      <td>North York</td>\n      <td>Lawrence Heights,Lawrence Manor</td>\n    </tr>\n    <tr>\n      <th>17</th>\n      <td>M9W</td>\n      <td>Etobicoke</td>\n      <td>Northwest</td>\n    </tr>\n    <tr>\n      <th>18</th>\n      <td>M6C</td>\n      <td>York</td>\n      <td>Humewood-Cedarvale</td>\n    </tr>\n    <tr>\n      <th>19</th>\n      <td>M6S</td>\n      <td>West Toronto</td>\n      <td>Runnymede,Swansea</td>\n    </tr>\n    <tr>\n      <th>20</th>\n      <td>M2M</td>\n      <td>North York</td>\n      <td>Newtonbrook,Willowdale</td>\n    </tr>\n    <tr>\n      <th>21</th>\n      <td>M1G</td>\n      <td>Scarborough</td>\n      <td>Woburn</td>\n    </tr>\n    <tr>\n      <th>22</th>\n      <td>M5P</td>\n      <td>Central Toronto</td>\n      <td>Forest Hill North,Forest Hill West</td>\n    </tr>\n    <tr>\n      <th>23</th>\n      <td>M5C</td>\n      <td>Downtown Toronto</td>\n      <td>St. James Town</td>\n    </tr>\n    <tr>\n      <th>24</th>\n      <td>M5A</td>\n      <td>Downtown Toronto</td>\n      <td>Harbourfront,Regent Park</td>\n    </tr>\n    <tr>\n      <th>25</th>\n      <td>M4N</td>\n      <td>Central Toronto</td>\n      <td>Lawrence Park</td>\n    </tr>\n    <tr>\n      <th>26</th>\n      <td>M7A</td>\n      <td>Queen's Park</td>\n      <td>Queen's Park</td>\n    </tr>\n    <tr>\n      <th>27</th>\n      <td>M5S</td>\n      <td>Downtown Toronto</td>\n      <td>Harbord,University of Toronto</td>\n    </tr>\n    <tr>\n      <th>28</th>\n      <td>M1C</td>\n      <td>Scarborough</td>\n      <td>Highland Creek,Rouge Hill,Port Union</td>\n    </tr>\n    <tr>\n      <th>29</th>\n      <td>M2N</td>\n      <td>North York</td>\n      <td>Willowdale South</td>\n    </tr>\n    <tr>\n      <th>...</th>\n      <td>...</td>\n      <td>...</td>\n      <td>...</td>\n    </tr>\n    <tr>\n      <th>73</th>\n      <td>M1E</td>\n      <td>Scarborough</td>\n      <td>Guildwood,Morningside,West Hill</td>\n    </tr>\n    <tr>\n      <th>74</th>\n      <td>M4M</td>\n      <td>East Toronto</td>\n      <td>Studio District</td>\n    </tr>\n    <tr>\n      <th>75</th>\n      <td>M7R</td>\n      <td>Mississauga</td>\n      <td>Canada Post Gateway Processing Centre</td>\n    </tr>\n    <tr>\n      <th>76</th>\n      <td>M5J</td>\n      <td>Downtown Toronto</td>\n      <td>Harbourfront East,Toronto Islands,Union Station</td>\n    </tr>\n    <tr>\n      <th>77</th>\n      <td>M2L</td>\n      <td>North York</td>\n      <td>Silver Hills,York Mills</td>\n    </tr>\n    <tr>\n      <th>78</th>\n      <td>M9B</td>\n      <td>Etobicoke</td>\n      <td>Cloverdale,Islington,Martin Grove,Princess Gar...</td>\n    </tr>\n    <tr>\n      <th>79</th>\n      <td>M5X</td>\n      <td>Downtown Toronto</td>\n      <td>First Canadian Place,Underground city</td>\n    </tr>\n    <tr>\n      <th>80</th>\n      <td>M5R</td>\n      <td>Central Toronto</td>\n      <td>The Annex,North Midtown,Yorkville</td>\n    </tr>\n    <tr>\n      <th>81</th>\n      <td>M3K</td>\n      <td>North York</td>\n      <td>CFB Toronto,Downsview East</td>\n    </tr>\n    <tr>\n      <th>82</th>\n      <td>M8Z</td>\n      <td>Etobicoke</td>\n      <td>Kingsway Park South West,Mimico NW,The Queensw...</td>\n    </tr>\n    <tr>\n      <th>83</th>\n      <td>M2P</td>\n      <td>North York</td>\n      <td>York Mills West</td>\n    </tr>\n    <tr>\n      <th>84</th>\n      <td>M1N</td>\n      <td>Scarborough</td>\n      <td>Birch Cliff,Cliffside West</td>\n    </tr>\n    <tr>\n      <th>85</th>\n      <td>M1S</td>\n      <td>Scarborough</td>\n      <td>Agincourt</td>\n    </tr>\n    <tr>\n      <th>86</th>\n      <td>M4P</td>\n      <td>Central Toronto</td>\n      <td>Davisville North</td>\n    </tr>\n    <tr>\n      <th>87</th>\n      <td>M5K</td>\n      <td>Downtown Toronto</td>\n      <td>Design Exchange,Toronto Dominion Centre</td>\n    </tr>\n    <tr>\n      <th>88</th>\n      <td>M4S</td>\n      <td>Central Toronto</td>\n      <td>Davisville</td>\n    </tr>\n    <tr>\n      <th>89</th>\n      <td>M3A</td>\n      <td>North York</td>\n      <td>Parkwoods</td>\n    </tr>\n    <tr>\n      <th>90</th>\n      <td>M6M</td>\n      <td>York</td>\n      <td>Del Ray,Keelesdale,Mount Dennis,Silverthorn</td>\n    </tr>\n    <tr>\n      <th>91</th>\n      <td>M4R</td>\n      <td>Central Toronto</td>\n      <td>North Toronto West</td>\n    </tr>\n    <tr>\n      <th>92</th>\n      <td>M6B</td>\n      <td>North York</td>\n      <td>Glencairn</td>\n    </tr>\n    <tr>\n      <th>93</th>\n      <td>M6J</td>\n      <td>West Toronto</td>\n      <td>Little Portugal,Trinity</td>\n    </tr>\n    <tr>\n      <th>94</th>\n      <td>M4X</td>\n      <td>Downtown Toronto</td>\n      <td>Cabbagetown,St. James Town</td>\n    </tr>\n    <tr>\n      <th>95</th>\n      <td>M3B</td>\n      <td>North York</td>\n      <td>Don Mills North</td>\n    </tr>\n    <tr>\n      <th>96</th>\n      <td>M4B</td>\n      <td>East York</td>\n      <td>Woodbine Gardens,Parkview Hill</td>\n    </tr>\n    <tr>\n      <th>97</th>\n      <td>M3N</td>\n      <td>North York</td>\n      <td>Downsview Northwest</td>\n    </tr>\n    <tr>\n      <th>98</th>\n      <td>M4Y</td>\n      <td>Downtown Toronto</td>\n      <td>Church and Wellesley</td>\n    </tr>\n    <tr>\n      <th>99</th>\n      <td>M9N</td>\n      <td>York</td>\n      <td>Weston</td>\n    </tr>\n    <tr>\n      <th>100</th>\n      <td>M2R</td>\n      <td>North York</td>\n      <td>Willowdale West</td>\n    </tr>\n    <tr>\n      <th>101</th>\n      <td>M5T</td>\n      <td>Downtown Toronto</td>\n      <td>Chinatown,Grange Park,Kensington Market</td>\n    </tr>\n    <tr>\n      <th>102</th>\n      <td>M8W</td>\n      <td>Etobicoke</td>\n      <td>Alderwood,Long Branch</td>\n    </tr>\n  </tbody>\n</table>\n<p>103 rows \u00d7 3 columns</p>\n</div>", 
                        "text/plain": "    PostalCode           Borough  \\\n0          M3M        North York   \n1          M6N              York   \n2          M5H  Downtown Toronto   \n3          M3H        North York   \n4          M5E  Downtown Toronto   \n5          M6G  Downtown Toronto   \n6          M9P         Etobicoke   \n7          M4T   Central Toronto   \n8          M4W  Downtown Toronto   \n9          M8V         Etobicoke   \n10         M4G         East York   \n11         M1B       Scarborough   \n12         M5G  Downtown Toronto   \n13         M1K       Scarborough   \n14         M6H      West Toronto   \n15         M9M        North York   \n16         M6A        North York   \n17         M9W         Etobicoke   \n18         M6C              York   \n19         M6S      West Toronto   \n20         M2M        North York   \n21         M1G       Scarborough   \n22         M5P   Central Toronto   \n23         M5C  Downtown Toronto   \n24         M5A  Downtown Toronto   \n25         M4N   Central Toronto   \n26         M7A      Queen's Park   \n27         M5S  Downtown Toronto   \n28         M1C       Scarborough   \n29         M2N        North York   \n..         ...               ...   \n73         M1E       Scarborough   \n74         M4M      East Toronto   \n75         M7R       Mississauga   \n76         M5J  Downtown Toronto   \n77         M2L        North York   \n78         M9B         Etobicoke   \n79         M5X  Downtown Toronto   \n80         M5R   Central Toronto   \n81         M3K        North York   \n82         M8Z         Etobicoke   \n83         M2P        North York   \n84         M1N       Scarborough   \n85         M1S       Scarborough   \n86         M4P   Central Toronto   \n87         M5K  Downtown Toronto   \n88         M4S   Central Toronto   \n89         M3A        North York   \n90         M6M              York   \n91         M4R   Central Toronto   \n92         M6B        North York   \n93         M6J      West Toronto   \n94         M4X  Downtown Toronto   \n95         M3B        North York   \n96         M4B         East York   \n97         M3N        North York   \n98         M4Y  Downtown Toronto   \n99         M9N              York   \n100        M2R        North York   \n101        M5T  Downtown Toronto   \n102        M8W         Etobicoke   \n\n                                          Neighborhood  \n0                                    Downsview Central  \n1                         The Junction North,Runnymede  \n2                               Adelaide,King,Richmond  \n3        Bathurst Manor,Downsview North,Wilson Heights  \n4                                          Berczy Park  \n5                                             Christie  \n6                                            Westmount  \n7                           Moore Park,Summerhill East  \n8                                             Rosedale  \n9           Humber Bay Shores,Mimico South,New Toronto  \n10                                             Leaside  \n11                                       Rouge,Malvern  \n12                                  Central Bay Street  \n13           East Birchmount Park,Ionview,Kennedy Park  \n14                         Dovercourt Village,Dufferin  \n15                                     Emery,Humberlea  \n16                     Lawrence Heights,Lawrence Manor  \n17                                           Northwest  \n18                                  Humewood-Cedarvale  \n19                                   Runnymede,Swansea  \n20                              Newtonbrook,Willowdale  \n21                                              Woburn  \n22                  Forest Hill North,Forest Hill West  \n23                                      St. James Town  \n24                            Harbourfront,Regent Park  \n25                                       Lawrence Park  \n26                                        Queen's Park  \n27                       Harbord,University of Toronto  \n28                Highland Creek,Rouge Hill,Port Union  \n29                                    Willowdale South  \n..                                                 ...  \n73                     Guildwood,Morningside,West Hill  \n74                                     Studio District  \n75               Canada Post Gateway Processing Centre  \n76     Harbourfront East,Toronto Islands,Union Station  \n77                             Silver Hills,York Mills  \n78   Cloverdale,Islington,Martin Grove,Princess Gar...  \n79               First Canadian Place,Underground city  \n80                   The Annex,North Midtown,Yorkville  \n81                          CFB Toronto,Downsview East  \n82   Kingsway Park South West,Mimico NW,The Queensw...  \n83                                     York Mills West  \n84                          Birch Cliff,Cliffside West  \n85                                           Agincourt  \n86                                    Davisville North  \n87             Design Exchange,Toronto Dominion Centre  \n88                                          Davisville  \n89                                           Parkwoods  \n90         Del Ray,Keelesdale,Mount Dennis,Silverthorn  \n91                                  North Toronto West  \n92                                           Glencairn  \n93                             Little Portugal,Trinity  \n94                          Cabbagetown,St. James Town  \n95                                     Don Mills North  \n96                      Woodbine Gardens,Parkview Hill  \n97                                 Downsview Northwest  \n98                                Church and Wellesley  \n99                                              Weston  \n100                                    Willowdale West  \n101            Chinatown,Grange Park,Kensington Market  \n102                              Alderwood,Long Branch  \n\n[103 rows x 3 columns]"
                    }, 
                    "execution_count": 17, 
                    "metadata": {}
                }
            ], 
            "execution_count": 17
        }, 
        {
            "source": "", 
            "cell_type": "code", 
            "metadata": {}, 
            "outputs": [], 
            "execution_count": null
        }
    ], 
    "metadata": {
        "kernelspec": {
            "display_name": "Python 3.5", 
            "name": "python3", 
            "language": "python"
        }, 
        "language_info": {
            "mimetype": "text/x-python", 
            "nbconvert_exporter": "python", 
            "version": "3.5.5", 
            "name": "python", 
            "file_extension": ".py", 
            "pygments_lexer": "ipython3", 
            "codemirror_mode": {
                "version": 3, 
                "name": "ipython"
            }
        }
    }, 
    "nbformat": 4
}